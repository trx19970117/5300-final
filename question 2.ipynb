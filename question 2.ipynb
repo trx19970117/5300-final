{
 "cells": [
  {
   "cell_type": "code",
   "execution_count": 52,
   "metadata": {},
   "outputs": [],
   "source": [
    "%matplotlib inline"
   ]
  },
  {
   "cell_type": "code",
   "execution_count": 53,
   "metadata": {},
   "outputs": [],
   "source": [
    "import numpy as np\n",
    "from scipy.integrate import odeint, solve_ivp\n",
    "from scipy import linalg as LA\n",
    "import matplotlib.pyplot as plt\n",
    "import math\n",
    "\n",
    "import ipywidgets as widgets\n",
    "from ipywidgets import HBox, VBox, Layout, Tab, Label, Checkbox\n",
    "from ipywidgets import FloatSlider, IntSlider, Play, Dropdown, HTMLMath \n",
    "\n",
    "from IPython.display import display\n",
    "from time import sleep"
   ]
  },
  {
   "cell_type": "markdown",
   "metadata": {},
   "source": [
    "# the next cell is used for question a (the solution of two body)"
   ]
  },
  {
   "cell_type": "code",
   "execution_count": 54,
   "metadata": {},
   "outputs": [],
   "source": [
    "class twobodygravitation():\n",
    "    \n",
    "    # input the initial value\n",
    "    def __init__(self, m1=1.,m2=2.,G=1.\n",
    "              ):\n",
    "        self.m1=m1\n",
    "        self.m2=m2\n",
    "        self.G=G\n",
    "        \n",
    "    # the right side of the equation    \n",
    "    def dy_dt(self,t,f):\n",
    "        x_1,x_2,y_1,y_2,x_1_dot,x_2_dot,y_1_dot,y_2_dot = f\n",
    "        delta_x = x_1-x_2\n",
    "        delta_y = y_1-y_2\n",
    "        function=-self.G*self.m1*self.m2*((delta_x)**2+(delta_y)**2)**(-1.5)\n",
    "        \n",
    "        x_1_dot_dot = function*delta_x/self.m1\n",
    "        x_2_dot_dot = function*(-delta_x)/self.m2\n",
    "        y_1_dot_dot = function*delta_y/self.m1\n",
    "        y_2_dot_dot = function*(-delta_y)/self.m2\n",
    "    \n",
    "        return x_1_dot,x_2_dot,y_1_dot,y_2_dot,x_1_dot_dot,x_2_dot_dot,y_1_dot_dot,y_2_dot_dot\n",
    "    \n",
    "    #solve the equation\n",
    "    def solve_ode(self,t_pts,x_1_0,x_2_0,y_1_0,y_2_0,x_1_dot_0,x_2_dot_0,y_1_dot_0,y_2_dot_0,abserr=1.0e-9,relerr=1.0e-9):\n",
    "        y=[x_1_0,x_2_0,y_1_0,y_2_0,x_1_dot_0,x_2_dot_0,y_1_dot_0,y_2_dot_0]\n",
    "        solution = solve_ivp(self.dy_dt, (t_pts[0], t_pts[-1]), \n",
    "                             y, t_eval=t_pts, \n",
    "                             atol=abserr, rtol=relerr)\n",
    "        x_1,x_2,y_1,y_2,x_1_dot,x_2_dot_0,y_1_dot_0,y_2_dot_0 =solution.y\n",
    "        \n",
    "        return x_1,x_2,y_1,y_2,x_1_dot,x_2_dot_0,y_1_dot_0,y_2_dot_0\n",
    "\n",
    "        "
   ]
  },
  {
   "cell_type": "markdown",
   "metadata": {},
   "source": [
    "# question b, one of them is heavier than the other，the small mass will orbit around the large one and the large one almost stay rest with a small oscillation due to the small mass"
   ]
  },
  {
   "cell_type": "code",
   "execution_count": 55,
   "metadata": {},
   "outputs": [],
   "source": [
    "# enter initial values\n",
    "m1=1.\n",
    "m2=1000.\n",
    "G=1.\n",
    "t_start=0\n",
    "t_end = 10000\n",
    "delta_t = 0.1\n",
    "t_pts=np.arange(t_start,t_end+delta_t,delta_t)\n",
    "x_1_0=0.\n",
    "x_2_0=0.\n",
    "y_1_0=0.\n",
    "y_2_0=1000. \n",
    "x_1_dot_0=1\n",
    "x_2_dot_0=0\n",
    "y_1_dot_0=0.\n",
    "y_2_dot_0=0.\n",
    "\n",
    "two = twobodygravitation(m1,m2,G)\n",
    "\n",
    "x_1,x_2,y_1,y_2,x_1_dot,x_2_dot,y_1_dot,y_2_dot = two.solve_ode(t_pts,x_1_0,x_2_0,y_1_0,y_2_0,x_1_dot_0,x_2_dot_0,y_1_dot_0,y_2_dot_0) \n"
   ]
  },
  {
   "cell_type": "code",
   "execution_count": 56,
   "metadata": {},
   "outputs": [],
   "source": [
    "def plot_y_vs_x(x, y, axis_labels=None, label=None, title=None, \n",
    "                color=None, linestyle=None, semilogy=False, loglog=False,\n",
    "                ax=None):\n",
    "    \"\"\"\n",
    "    Generic plotting function: return a figure axis with a plot of y vs. x,\n",
    "    with line color and style, title, axis labels, and line label\n",
    "    \"\"\"\n",
    "    if ax is None:        # if the axis object doesn't exist, make one\n",
    "        ax = plt.gca()\n",
    "\n",
    "    if (semilogy):\n",
    "        line, = ax.semilogy(x, y, label=label, \n",
    "                            color=color, linestyle=linestyle)\n",
    "    elif (loglog):\n",
    "        line, = ax.loglog(x, y, label=label, \n",
    "                          color=color, linestyle=linestyle)\n",
    "    else:\n",
    "        line, = ax.plot(x, y, label=label, \n",
    "                    color=color, linestyle=linestyle)\n",
    "\n",
    "    if label is not None:    # if a label if passed, show the legend\n",
    "        ax.legend()\n",
    "    if title is not None:    # set a title if one if passed\n",
    "        ax.set_title(title)\n",
    "    if axis_labels is not None:  # set x-axis and y-axis labels if passed  \n",
    "        ax.set_xlabel(axis_labels[0])\n",
    "        ax.set_ylabel(axis_labels[1])\n",
    "\n",
    "    return ax, line"
   ]
  },
  {
   "cell_type": "code",
   "execution_count": 57,
   "metadata": {},
   "outputs": [],
   "source": [
    "def start_stop_indices(t_pts, plot_start, plot_stop):\n",
    "    start_index = (np.fabs(t_pts-plot_start)).argmin()  # index in t_pts array \n",
    "    stop_index = (np.fabs(t_pts-plot_stop)).argmin()  # index in t_pts array \n",
    "    return start_index, stop_index"
   ]
  },
  {
   "cell_type": "code",
   "execution_count": 58,
   "metadata": {},
   "outputs": [
    {
     "data": {
      "text/plain": [
       "(<matplotlib.axes._subplots.AxesSubplot at 0x1c7b2f81148>,\n",
       " <matplotlib.lines.Line2D at 0x1c7b2fa4ec8>)"
      ]
     },
     "execution_count": 58,
     "metadata": {},
     "output_type": "execute_result"
    },
    {
     "data": {
      "image/png": "[encoded data removed]",
      "text/plain": [
       "<Figure size 1080x360 with 2 Axes>"
      ]
     },
     "metadata": {
      "needs_background": "light"
     },
     "output_type": "display_data"
    }
   ],
   "source": [
    "phi_vs_time_labels_1 = (r'$x_1$', r'$y_1$')\n",
    "phi_vs_time_labels_2 = (r'$x_2$', r'$y_2$')\n",
    "\n",
    "fig=plt.figure(figsize=(15,5))\n",
    "overall_title = 'two body question:  ' + \\\n",
    "                rf' m1={m1:.2f},' + \\\n",
    "                rf' m2={m2:.2f},' + \\\n",
    "                rf'(x1,y1)=({x_1_0:.2f},{y_1_0:.2f}),' + \\\n",
    "                rf' (x2,y2)=({x_2_0:.2f},{y_2_0:.2f}),' + \\\n",
    "                rf' (v_x1,v_y1)=({x_1_dot_0:.2f},{y_1_dot_0:.2f}),' + \\\n",
    "                rf' (v_x2,v_y2)=({x_2_dot_0:.2f},{y_2_dot_0:.2f}),' + \\\n",
    "                '\\n'     \n",
    "fig.suptitle(overall_title, va='baseline')\n",
    "\n",
    "#the first plot which correspond to the mass one\n",
    "ax_a = fig.add_subplot(1,2,1)                  \n",
    "\n",
    "start, stop = start_stop_indices(t_pts, t_start, t_end)    \n",
    "plot_y_vs_x(x_1[start : stop], y_1[start : stop], \n",
    "            axis_labels=phi_vs_time_labels_1, \n",
    "            color='blue',\n",
    "            label=None, \n",
    "            title='m1', \n",
    "            ax=ax_a)    \n",
    "                           \n",
    "# the second plot which correspond to the mass two    \n",
    "ax_b = fig.add_subplot(1,2,2)                  \n",
    "\n",
    "start, stop = start_stop_indices(t_pts, t_start, t_end)    \n",
    "plot_y_vs_x(x_2[start : stop], y_2[start : stop], \n",
    "            axis_labels=phi_vs_time_labels_2, \n",
    "            color='blue',\n",
    "            label=None, \n",
    "            title='m2', \n",
    "            ax=ax_b)    "
   ]
  },
  {
   "cell_type": "markdown",
   "metadata": {},
   "source": [
    "# now it is time for animation"
   ]
  },
  {
   "cell_type": "code",
   "execution_count": 80,
   "metadata": {},
   "outputs": [],
   "source": [
    "def update_plot(t_start=0.,t_end=0.,delta_t=0.,m1=0.,m2=0.,G=0.,x1=0.,x2=0.,y1=0.,y2=0.,x1_dot=0.,x2_dot=0.,y1_dot=0.,y2_dot=0.):\n",
    "    t_pts=np.arange(t_start,t_end+delta_t,delta_t)\n",
    "    two_body=twobodygravitation(m1=m1,m2=m2,G=G)\n",
    "    x_1,x_2,y_1,y_2,x_1_dot,x_2_dot,y_1_dot,y_2_dot = two_body.solve_ode(t_pts,x1,x2,y1,y2,x1_dot,x2_dot,y1_dot,y2_dot)\n",
    "    \n",
    "    phi_vs_time_labels_1 = (r'$x_1$', r'$y_1$')\n",
    "    phi_vs_time_labels_2 = (r'$x_2$', r'$y_2$')\n",
    "\n",
    "    fig=plt.figure(figsize=(15,5))\n",
    "    overall_title = 'two body question:  '    \n",
    "    fig.suptitle(overall_title, va='baseline')\n",
    "\n",
    "#the first plot which correspond to the mass one\n",
    "    ax_a = fig.add_subplot(1,2,1)                  \n",
    "\n",
    "    start, stop = start_stop_indices(t_pts, t_start, t_end)    \n",
    "    plot_y_vs_x(x_1[start : stop], y_1[start : stop], \n",
    "            axis_labels=phi_vs_time_labels_1, \n",
    "            color='blue',\n",
    "            label=None, \n",
    "            title='m1', \n",
    "            ax=ax_a)    \n",
    "                           \n",
    "# the second plot which correspond to the mass two    \n",
    "    ax_b = fig.add_subplot(1,2,2)                  \n",
    "\n",
    "    start, stop = start_stop_indices(t_pts, t_start, t_end)    \n",
    "    plot_y_vs_x(x_2[start : stop], y_2[start : stop], \n",
    "            axis_labels=phi_vs_time_labels_2, \n",
    "            color='blue',\n",
    "            label=None, \n",
    "            title='m2', \n",
    "            ax=ax_b)    "
   ]
  },
  {
   "cell_type": "code",
   "execution_count": 81,
   "metadata": {},
   "outputs": [],
   "source": [
    "slider_border = Layout(border='solid 1.0px')\n",
    "\n",
    "def float_widget(value, min, max, step, description, format):\n",
    "    \"\"\"Makes a FloatSlider with the passed parameters and continuous_update\n",
    "       set to False.\"\"\"\n",
    "    return FloatSlider(value=value, min=min, max=max, step=step,\n",
    "                       disabled=False,\n",
    "                       description=description, continuous_update=False,\n",
    "                       orientation='horizontal', layout=slider_border,\n",
    "                       readout=True, readout_format=format)"
   ]
  },
  {
   "cell_type": "code",
   "execution_count": 98,
   "metadata": {},
   "outputs": [],
   "source": [
    "m1=float_widget(value=1., min=1. ,max=10., step=0.1,\n",
    "                       description=r'$m1$ :', format='.1f')\n",
    "m2=float_widget(value=1., min=1. ,max=1000., step=0.1,\n",
    "                       description=r'$m2$ :', format='.1f')\n",
    "G=float_widget(value=1., min=1. ,max=10., step=0.1,\n",
    "                       description=r'$G$ :', format='.1f')\n",
    "x_1_0=float_widget(value=0., min=-10. ,max=10., step=0.1,\n",
    "                       description=r'$x_1$ :', format='.1f')\n",
    "x_2_0=float_widget(value=0., min=-10. ,max=10., step=0.1,\n",
    "                       description=r'$x_2$ :', format='.1f')\n",
    "y_1_0=float_widget(value=0., min=-10 ,max=10, step=0.1,\n",
    "                       description=r'$y_1$ :', format='.1f')\n",
    "y_2_0=float_widget(value=10., min=-10 ,max=10, step=0.1,\n",
    "                       description=r'$y_2$ :', format='.1f')\n",
    "x_1_dot_0=float_widget(value=0., min=-5. ,max=5., step=0.1,\n",
    "                       description=r'$\\dot\\x_1$ :', format='.1f')\n",
    "x_2_dot_0=float_widget(value=0., min=-5 ,max=5., step=0.1,\n",
    "                       description=r'$\\dot\\x_2$ :', format='.1f')\n",
    "y_1_dot_0=float_widget(value=0., min=-5. ,max=5., step=0.1,\n",
    "                       description=r'$\\dot\\y_1$ :', format='.1f')\n",
    "y_2_dot_0=float_widget(value=0., min=-5. ,max=5., step=0.1,\n",
    "                       description=r'$\\dot\\y_2$ :', format='.1f')\n",
    "t_min_w = float_widget(value=0.0, min=0.0, max=10., step=0.1,\n",
    "                       description=r'$t_{\\rm min}$ :', format='.1f')\n",
    "\n",
    "t_max_w = float_widget(value=10000.0, min=10., max=100000., step=0.1,\n",
    "                       description=r'$t_{\\rm max}$ :', format='.1f')\n",
    "\n",
    "delta = float_widget(value=0.1, min=0.01, max=0.2, step=0.1,\n",
    "                       description=r'$t_{\\delta }$ :', format='.1f')\n"
   ]
  },
  {
   "cell_type": "code",
   "execution_count": 99,
   "metadata": {},
   "outputs": [],
   "source": [
    "plot_out = widgets.interactive_output (update_plot,dict(t_start=t_min_w,t_end=t_max_w,delta_t=delta,m1=m1,m2=m2,G=G,x1=x_1_0,x2=x_2_0,y1=y_1_0,y2=y_2_0, x1_dot=x_1_dot_0,x2_dot=x_2_dot_0,y1_dot=y_1_dot_0,y2_dot=y_2_dot_0))"
   ]
  },
  {
   "cell_type": "code",
   "execution_count": 100,
   "metadata": {},
   "outputs": [],
   "source": [
    "hbox_1=HBox([m1,m2,G])\n",
    "hbox_2=HBox([x_1_0,y_1_0])\n",
    "hbox_3=HBox([x_2_0,y_2_0])\n",
    "hbox_4=HBox([x_1_dot_0,y_1_dot_0])\n",
    "hbox_5=HBox([x_2_dot_0,y_2_dot_0])\n",
    "hbox_6=HBox([t_min_w,t_max_w,delta])\n",
    "UI_box=VBox([hbox_1,hbox_2,hbox_3,hbox_4,hbox_5,hbox_6,plot_out])"
   ]
  },
  {
   "cell_type": "code",
   "execution_count": 101,
   "metadata": {},
   "outputs": [
    {
     "data": {
      "application/vnd.jupyter.widget-view+json": {
       "model_id": "3b2682496dd54543be967ed9bf2e1e19",
       "version_major": 2,
       "version_minor": 0
      },
      "text/plain": [
       "VBox(children=(HBox(children=(FloatSlider(value=1.0, continuous_update=False, description='$m1$ :', layout=Lay…"
      ]
     },
     "metadata": {},
     "output_type": "display_data"
    }
   ],
   "source": [
    "display(UI_box)"
   ]
  },
  {
   "cell_type": "code",
   "execution_count": null,
   "metadata": {},
   "outputs": [],
   "source": []
  }
 ],
 "metadata": {
  "kernelspec": {
   "display_name": "Python 3",
   "language": "python",
   "name": "python3"
  },
  "language_info": {
   "codemirror_mode": {
    "name": "ipython",
    "version": 3
   },
   "file_extension": ".py",
   "mimetype": "text/x-python",
   "name": "python",
   "nbconvert_exporter": "python",
   "pygments_lexer": "ipython3",
   "version": "3.7.4"
  }
 },
 "nbformat": 4,
 "nbformat_minor": 2
}
